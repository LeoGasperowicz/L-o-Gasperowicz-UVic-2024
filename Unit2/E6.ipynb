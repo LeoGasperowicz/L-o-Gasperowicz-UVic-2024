{
 "cells": [
  {
   "cell_type": "markdown",
   "id": "2e396e41",
   "metadata": {},
   "source": [
    "# E6. Complementary slackness"
   ]
  },
  {
   "cell_type": "markdown",
   "id": "ee4e80d8",
   "metadata": {},
   "source": [
    "## Primal LP Problem : "
   ]
  },
  {
   "cell_type": "markdown",
   "id": "a9c85bf5",
   "metadata": {},
   "source": [
    "\\begin{align*}\n",
    "\\text{Maximize} \\quad & x_{1} + 4x_{2} + 2x_{3} \\\\\n",
    "\\text{subject to} \\quad & 5x_{1} + 2x_{2} + 2x_{3} \\leq 145, \\\\\n",
    "& 4x_{1} + 8x_{2} - 8x_{3} \\leq 260, \\\\\n",
    "& x_{1} + x_{2} + 4x_{3} \\leq 190, \\\\\n",
    "& x_{1}, x_{2}, x_{3} \\geq 0.\n",
    "\\end{align*}\n"
   ]
  },
  {
   "cell_type": "markdown",
   "id": "ed2db8c7",
   "metadata": {},
   "source": [
    "## Dual LP Problem :"
   ]
  },
  {
   "cell_type": "markdown",
   "id": "cc8aaaf9",
   "metadata": {},
   "source": [
    "\\begin{align*}\n",
    "\\text{Minimize} \\quad & 145 y_{1} + 260 y_{2} + 190 y_{3} \\\\\n",
    "\\text{subject to} \\quad & 5 y_{1} + 4 y_{2} + y_{3} \\geq 1, \\\\\n",
    "& 2 y_{1} + 8 y_{2} + y_{3} \\geq 4, \\\\\n",
    "& 2 y_{1} - 8 y_{2} + 4 y_{3} \\geq 2, \\\\\n",
    "& y_1, y_2, y_3 \\geq 0\n",
    "\\end{align*}"
   ]
  },
  {
   "cell_type": "markdown",
   "id": "2dba70ce",
   "metadata": {},
   "source": [
    "## Standard form :"
   ]
  },
  {
   "cell_type": "markdown",
   "id": "90a1b51f",
   "metadata": {},
   "source": [
    "\\begin{align*}\n",
    "\\text{Maximize} \\quad & z -145y_1 - 260y_2 - 190y_3 = 0 \\\\\n",
    "\\text{subject to} \\quad & -5y_1 - 4y_2 - y_3 \\leq -1 \\\\\n",
    "& -2y_1 - 8y_2 - y_3 \\leq -4 \\\\\n",
    "& -2y_1 + 8y_2 - 4y_3 \\leq -2 \\\\\n",
    "& y \\geq 0\n",
    "\\end{align*}"
   ]
  },
  {
   "cell_type": "markdown",
   "id": "f9db23fd",
   "metadata": {},
   "source": [
    "## Verify that  $Q=(x_1,x_2,x_3)=(0,52.5,20)$ is a feasible solution for the primal"
   ]
  },
  {
   "cell_type": "code",
   "execution_count": 2,
   "id": "51f501ea",
   "metadata": {},
   "outputs": [
    {
     "data": {
      "text/plain": [
       "(True, 145.0, 260.0, 132.5)"
      ]
     },
     "execution_count": 2,
     "metadata": {},
     "output_type": "execute_result"
    }
   ],
   "source": [
    "x1, x2, x3 = 0, 52.5, 20\n",
    "\n",
    "# Constraints of the primal problem\n",
    "constraint1 = 5*x1 + 2*x2 + 2*x3\n",
    "constraint2 = 4*x1 + 8*x2 - 8*x3\n",
    "constraint3 = x1 + x2 + 4*x3\n",
    "\n",
    "# Values for constraints based on Q\n",
    "constraint1_value = constraint1 <= 145\n",
    "constraint2_value = constraint2 <= 260\n",
    "constraint3_value = constraint3 <= 190\n",
    "nonnegative_values = x1 >= 0 and x2 >= 0 and x3 >= 0\n",
    "\n",
    "# Check if all constraints are satisfied\n",
    "feasible_solution = all([constraint1_value, constraint2_value, constraint3_value, nonnegative_values])\n",
    "\n",
    "feasible_solution, constraint1, constraint2, constraint3"
   ]
  },
  {
   "cell_type": "markdown",
   "id": "5d6ba03e",
   "metadata": {},
   "source": [
    "## Use CS to determine a candidate solution to the dual"
   ]
  },
  {
   "cell_type": "code",
   "execution_count": 7,
   "id": "dd69da69",
   "metadata": {},
   "outputs": [
    {
     "data": {
      "text/plain": [
       "{y1: 3/2, y2: 1/8}"
      ]
     },
     "execution_count": 7,
     "metadata": {},
     "output_type": "execute_result"
    }
   ],
   "source": [
    "import sympy as sp\n",
    "# Define the symbols for y1 and y2\n",
    "y1, y2 = sp.symbols('y1 y2', nonnegative=True)\n",
    "\n",
    "# Equations derived from Complementary Slackness conditions\n",
    "eq1 = sp.Eq(2*y1 + 8*y2, 4)\n",
    "eq2 = sp.Eq(2*y1 - 8*y2, 2)\n",
    "\n",
    "# Solve the system of equations\n",
    "dual_solution = sp.solve((eq1, eq2), (y1, y2))\n",
    "dual_solution"
   ]
  },
  {
   "cell_type": "markdown",
   "id": "ddf8fc31",
   "metadata": {},
   "source": [
    "The third primal constraint is slack because the calculated left-hand side is less than the right-hand side, \n",
    "132.5<190. This means that the corresponding dual variable y3 must be zero.\n",
    "That means we have $(y_1,y_2,y_3)=(3/2,1/8,0)$"
   ]
  },
  {
   "cell_type": "markdown",
   "id": "a065f9b6",
   "metadata": {},
   "source": [
    "## Is $Q$ the solution for the primal problem?"
   ]
  },
  {
   "cell_type": "markdown",
   "id": "4abfa1e7",
   "metadata": {},
   "source": [
    "To determine if \\( $Q$ = (x_1, x_2, x_3) = (0, 52.5, 20) \\) is an optimal solution using the Simplex method, we can set up the Simplex tableau and solve it, watching for the signs of the reduced costs in the final tableau.\n",
    "\n",
    "### Simplex Tableau Setup\n",
    "\n",
    "We need to set up the initial tableau for the primal problem. Given the constraints:\n",
    "- \\( 5x_1 + 2x_2 + 2x_3 < 145 \\)\n",
    "- \\( 4x_1 + 8x_2 - 8x_3 < 260 \\)\n",
    "- \\( x_1 + x_2 + 4x_3 < 190 \\)\n",
    "\n",
    "We introduce slack variables \\( s_1, s_2, s_3 \\) for each constraint, respectively. The objective function is:\n",
    "- \\( z = x_1 + 4x_2 + 2x_3 \\)\n",
    "\n",
    "### Objective and Constraints Transformation\n",
    "Transforming the constraints and objective function:\n",
    "\n",
    "- Objective: Maximize \\( z = x_1 + 4x_2 + 2x_3 \\)\n",
    "- Constraint 1: \\( 5x_1 + 2x_2 + 2x_3 + s_1 = 145 \\)\n",
    "- Constraint 2: \\( 4x_1 + 8x_2 - 8x_3 + s_2 = 260 \\)\n",
    "- Constraint 3: \\( x_1 + x_2 + 4x_3 + s_3 = 190 \\)\n",
    "\n",
    "For an initial basis using slack variables \\( s_1, s_2, s_3 \\), the tableau can be initialized. The Simplex tableau includes these rows plus a row for the objective function, where non-basis variables have a cost of zero in the basis.\n",
    "\n",
    "Let's construct this initial tableau and perform iterations to see if $Q$ is optimal. For this demonstration, we'll set up the tableau and execute a few steps to check the optimality.\n",
    "\n",
    "After running the Simplex method on the given tableau, we have reached an optimal solution, as evidenced by the absence of negative coefficients in the objective function row (the last row) for the decision variables (x1, x2, x3). This means that the solution is optimal according to the Simplex criteria. The tableau has been transformed such that:\n",
    "\n",
    "- **x1** corresponds to a value of **20**, pivoted and part of the solution (first column is a basis column).\n",
    "- **x2** corresponds to a value of **52.5**, also a basis column.\n",
    "- **s3** (slack variable for the third constraint) corresponds to **57.5**.\n",
    "\n",
    "The final objective value is **250**, as seen in the last element of the objective function row. This confirms that \\( $Q$ = (x_1, x_2, x_3) = (0, 52.5, 20) \\) not only is a feasible solution, as we saw before, but it is also the optimal solution for the primal problem, based on the Simplex calculations showing no further direction for improvement (no negative coefficients in the decision variable columns of the objective function row). \n",
    "\n",
    "Thus, $Q$ indeed maximizes the objective function under the given constraints."
   ]
  }
 ],
 "metadata": {
  "kernelspec": {
   "display_name": "Python 3 (ipykernel)",
   "language": "python",
   "name": "python3"
  },
  "language_info": {
   "codemirror_mode": {
    "name": "ipython",
    "version": 3
   },
   "file_extension": ".py",
   "mimetype": "text/x-python",
   "name": "python",
   "nbconvert_exporter": "python",
   "pygments_lexer": "ipython3",
   "version": "3.9.13"
  }
 },
 "nbformat": 4,
 "nbformat_minor": 5
}
