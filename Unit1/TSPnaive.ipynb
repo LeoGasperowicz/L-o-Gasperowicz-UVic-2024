{
  "cells": [
    {
      "cell_type": "markdown",
      "metadata": {
        "colab_type": "text",
        "id": "view-in-github"
      },
      "source": [
        "<a href=\"https://colab.research.google.com/github/JordiVillaFreixa/ORcode/blob/main/TSPnaive.ipynb\" target=\"_parent\"><img src=\"https://colab.research.google.com/assets/colab-badge.svg\" alt=\"Open In Colab\"/></a>"
      ]
    },
    {
      "cell_type": "code",
      "execution_count": 6,
      "metadata": {
        "colab": {
          "base_uri": "https://localhost:8080/"
        },
        "id": "jyB_FV2Hst8G",
        "outputId": "4c90ebd8-137c-4b32-b3ce-34e258edc14e"
      },
      "outputs": [
        {
          "name": "stdout",
          "output_type": "stream",
          "text": [
            "(1, 2, 3) 95\n",
            "(1, 3, 2) 80\n",
            "(2, 1, 3) 95\n",
            "(2, 3, 1) 80\n",
            "(3, 1, 2) 95\n",
            "(3, 2, 1) 95\n",
            "The minimum weight Hamiltonian Cycle: 80\n"
          ]
        }
      ],
      "source": [
        "# Implementation of Traveling Salesman Problem using Naive Approach\n",
        "# The program finds the shortest path that visits every vertex exactly once and returns to the starting vertex.\n",
        "\n",
        "from sys import maxsize               #importing the sys module to get maximum size of integer value\n",
        "from itertools import permutations    #importing the permutations module from itertools\n",
        "\n",
        "V = 4       # Number of vertices in the given graph\n",
        "\n",
        "# Implementation of traveling Salesman Problem function\n",
        "def travellingSalesmanProblem(graph, s):\n",
        "\n",
        "    # Store all vertex apart from source vertex\n",
        "    vertex = []\n",
        "    for i in range(V):\n",
        "        if i != s:\n",
        "            vertex.append(i)\n",
        "\n",
        "    # Store minimum weight Hamiltonian Cycle\n",
        "    min_path = maxsize\n",
        "    next_permutation=permutations(vertex)  #Generate all permutations of vertices\n",
        "    #print(next_permutation)\n",
        "    for i in next_permutation:\n",
        "        \n",
        "        # Store current Path weight(cost)\n",
        "        current_pathweight = 0\n",
        "\n",
        "        # Compute the current path weight\n",
        "        k = s\n",
        "        for j in i:\n",
        "            current_pathweight += graph[k][j]\n",
        "            k = j\n",
        "        current_pathweight += graph[k][s]\n",
        "\n",
        "        # Update minimum\n",
        "        min_path = min(min_path, current_pathweight)\n",
        "        print(i,current_pathweight)\n",
        "    return min_path\n",
        "\n",
        "\n",
        "# Driver Code\n",
        "if __name__ == \"__main__\":\n",
        "\n",
        "    # Matrix representation of graph\n",
        "    graph = [[0, 10, 15, 20], \n",
        "                [10, 0, 35, 25],\n",
        "                [15, 35, 0, 30], \n",
        "                [20, 25, 30, 0]]\n",
        "    s = 0\n",
        "    print(\"The minimum weight Hamiltonian Cycle:\", travellingSalesmanProblem(graph, s)) # Prints the minimum weight Hamiltonian Cycle."
      ]
    }
  ],
  "metadata": {
    "colab": {
      "authorship_tag": "ABX9TyNFlEY/+qFe4Xoeo8J0JpBq",
      "include_colab_link": true,
      "name": "TSPnaive.ipynb",
      "provenance": []
    },
    "kernelspec": {
      "display_name": "Python 3",
      "name": "python3"
    },
    "language_info": {
      "codemirror_mode": {
        "name": "ipython",
        "version": 3
      },
      "file_extension": ".py",
      "mimetype": "text/x-python",
      "name": "python",
      "nbconvert_exporter": "python",
      "pygments_lexer": "ipython3",
      "version": "3.11.0"
    }
  },
  "nbformat": 4,
  "nbformat_minor": 0
}
