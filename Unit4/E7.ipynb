{
 "cells": [
  {
   "cell_type": "markdown",
   "id": "e2bdf1ae",
   "metadata": {},
   "source": [
    "# E7"
   ]
  },
  {
   "cell_type": "markdown",
   "id": "eed8654f",
   "metadata": {},
   "source": [
    "## Read the CSV file"
   ]
  },
  {
   "cell_type": "code",
   "execution_count": 2,
   "id": "b854a6de",
   "metadata": {},
   "outputs": [
    {
     "name": "stderr",
     "output_type": "stream",
     "text": [
      "C:\\Users\\Utilisateur\\anaconda3\\lib\\site-packages\\pandas\\core\\computation\\expressions.py:21: UserWarning: Pandas requires version '2.8.4' or newer of 'numexpr' (version '2.8.3' currently installed).\n",
      "  from pandas.core.computation.check import NUMEXPR_INSTALLED\n",
      "C:\\Users\\Utilisateur\\anaconda3\\lib\\site-packages\\pandas\\core\\arrays\\masked.py:60: UserWarning: Pandas requires version '1.3.6' or newer of 'bottleneck' (version '1.3.5' currently installed).\n",
      "  from pandas.core import (\n"
     ]
    },
    {
     "name": "stdout",
     "output_type": "stream",
     "text": [
      "   Source  Sink  Cost  Supply  Demand\n",
      "0       1     1    28      20      12\n",
      "1       1     2     7      20      14\n",
      "2       1     3    16      20      12\n",
      "3       1     4     2      20      18\n",
      "4       1     5    30      20       9\n"
     ]
    }
   ],
   "source": [
    "import pandas as pd\n",
    "\n",
    "data = pd.read_csv('E7.csv')\n",
    "print(data.head())"
   ]
  },
  {
   "cell_type": "markdown",
   "id": "11331e8e",
   "metadata": {},
   "source": [
    "I'm not going to use the csv file but directly the array jsut because it's easier "
   ]
  },
  {
   "cell_type": "code",
   "execution_count": 14,
   "id": "9ff41959",
   "metadata": {},
   "outputs": [
    {
     "name": "stdout",
     "output_type": "stream",
     "text": [
      "[[ 0.  0.  0.  0.  0. 20.]\n",
      " [ 0.  0.  0.  0.  0. 20.]\n",
      " [ 0.  0.  0.  0.  0. 25.]\n",
      " [12. 14. 12. 18.  9. 65.]]\n"
     ]
    }
   ],
   "source": [
    "import numpy as np\n",
    "\n",
    "rows = 4  \n",
    "columns = 6  \n",
    "matrix = np.zeros((rows, columns))\n",
    "\n",
    "demands = np.array([12, 14, 12, 18, 9, 65])\n",
    "supplies = np.array([20, 20, 25, 65])\n",
    "\n",
    "# Fill the last row with the specified values\n",
    "matrix[-1, :] = last_row_values\n",
    "# Fill the last column with the specified values\n",
    "matrix[:, -1] = last_column_values\n",
    "print(matrix)"
   ]
  },
  {
   "cell_type": "markdown",
   "id": "bffeead4",
   "metadata": {},
   "source": [
    "## NorthWest Corner Method"
   ]
  },
  {
   "cell_type": "code",
   "execution_count": 28,
   "id": "4b0a9252",
   "metadata": {},
   "outputs": [],
   "source": [
    "def northwest_corner_method(cost_matrix, supplies, demands):\n",
    "    num_rows = len(supplies)\n",
    "    num_cols = len(demands)\n",
    "    result = np.zeros((num_rows, num_cols))\n",
    "    total_cost = 0.0  \n",
    "    i, j = 0, 0\n",
    "    while i < num_rows and j < num_cols:\n",
    "        allocation = min(supplies[i], demands[j])\n",
    "        result[i, j] = allocation\n",
    "        total_cost += allocation * cost_matrix[i, j]\n",
    "        supplies[i] -= allocation\n",
    "        demands[j] -= allocation\n",
    "        \n",
    "        if supplies[i] == 0:\n",
    "            i += 1\n",
    "        else:\n",
    "            j += 1\n",
    "\n",
    "    return result, total_cost"
   ]
  },
  {
   "cell_type": "markdown",
   "id": "aea9805e",
   "metadata": {},
   "source": [
    "## Minimum Cost Method"
   ]
  },
  {
   "cell_type": "code",
   "execution_count": 34,
   "id": "5ed9147b",
   "metadata": {},
   "outputs": [],
   "source": [
    "def minimum_cost_method(cost_matrix, supplies, demands):\n",
    "    # Prepare a matrix to store the transportation plan\n",
    "    result = np.zeros((3, 5))\n",
    "\n",
    "    mask = np.zeros_like(cost_matrix, dtype=bool)\n",
    "\n",
    "    while np.any(demands) and np.any(supplies):\n",
    "        # Mask the fully allocated cells\n",
    "        mask |= (supplies[:, None] == 0) | (demands == 0)\n",
    "\n",
    "        # Find the minimum cost cell that hasn't been fully allocated\n",
    "        masked_costs = np.where(mask, np.inf, cost_matrix)  # Apply inf where mask is True\n",
    "        min_cost_index = np.unravel_index(np.argmin(masked_costs), cost_matrix.shape)\n",
    "        i, j = min_cost_index\n",
    "\n",
    "        # Allocate as much as possible in the cell with the minimum cost\n",
    "        allocation = min(supplies[i], demands[j])\n",
    "        result[i, j] = allocation\n",
    "        supplies[i] -= allocation\n",
    "        demands[j] -= allocation\n",
    "\n",
    "        # Update the mask\n",
    "        mask[i, j] = True\n",
    "    total_cost= np.sum(result * cost_matrix)\n",
    "    return result, total_cost"
   ]
  },
  {
   "cell_type": "markdown",
   "id": "5a340bae",
   "metadata": {},
   "source": [
    "## Minimum Row Cost Method"
   ]
  },
  {
   "cell_type": "code",
   "execution_count": 21,
   "id": "3ff3d94a",
   "metadata": {},
   "outputs": [],
   "source": [
    "def minimum_row_cost_method(cost_matrix, supplies, demands):\n",
    "    num_rows, num_cols = cost_matrix.shape\n",
    "    result = np.zeros((num_rows, num_cols))\n",
    "    total_cost = 0.0\n",
    "\n",
    "    for i in range(num_rows):\n",
    "        while supplies[i] > 0 and np.any(demands > 0):\n",
    "            # Find the minimum cost in the current row that has demand left\n",
    "            row_costs = np.where(demands > 0, cost_matrix[i], np.inf)\n",
    "            min_cost_index = np.argmin(row_costs)\n",
    "            \n",
    "            # Allocate as much as possible to the cell with the minimum cost\n",
    "            allocation = min(supplies[i], demands[min_cost_index])\n",
    "            result[i, min_cost_index] = allocation\n",
    "            total_cost += allocation * cost_matrix[i, min_cost_index]  # Update total cost\n",
    "            supplies[i] -= allocation\n",
    "            demands[min_cost_index] -= allocation\n",
    "\n",
    "    return result, total_cost"
   ]
  },
  {
   "cell_type": "code",
   "execution_count": 22,
   "id": "d853d7b3",
   "metadata": {},
   "outputs": [],
   "source": [
    "# Function to calculate penalties for a matrix with potential infinities\n",
    "def calculate_penalties(matrix):\n",
    "    penalties = []\n",
    "    for line in matrix:\n",
    "        # Filter out infinities and sort remaining elements\n",
    "        filtered = np.sort(line[line != np.inf])\n",
    "        if len(filtered) > 1:\n",
    "            penalty = filtered[1] - filtered[0]\n",
    "        elif len(filtered) == 1:\n",
    "            penalty = filtered[0]\n",
    "        else:\n",
    "            penalty = -np.inf  # No penalty if no available costs\n",
    "        penalties.append(penalty)\n",
    "    return np.array(penalties)"
   ]
  },
  {
   "cell_type": "markdown",
   "id": "926cd103",
   "metadata": {},
   "source": [
    "## Vogel's Method"
   ]
  },
  {
   "cell_type": "code",
   "execution_count": 23,
   "id": "bee0a6d7",
   "metadata": {},
   "outputs": [],
   "source": [
    "def vogels_approximation_method(cost_matrix, supplies, demands):\n",
    "    num_rows, num_cols = cost_matrix.shape\n",
    "    result = np.zeros((num_rows, num_cols), dtype=np.float64)\n",
    "    total_cost = 0.0\n",
    "\n",
    "    while np.any(demands > 0) and np.any(supplies > 0):\n",
    "        row_penalties = calculate_penalties(cost_matrix)\n",
    "        col_penalties = calculate_penalties(cost_matrix.T)\n",
    "\n",
    "        max_row_penalty_index = np.argmax(row_penalties)\n",
    "        max_col_penalty_index = np.argmax(col_penalties)\n",
    "\n",
    "        if row_penalties[max_row_penalty_index] >= col_penalties[max_col_penalty_index]:\n",
    "            i = max_row_penalty_index\n",
    "            j = np.argmin(cost_matrix[i, :])\n",
    "        else:\n",
    "            j = max_col_penalty_index\n",
    "            i = np.argmin(cost_matrix[:, j])\n",
    "\n",
    "        # Allocate as much as possible\n",
    "        allocation = min(supplies[i], demands[j])\n",
    "        result[i, j] = allocation\n",
    "        total_cost += allocation * cost_matrix[i, j]  # Increment total cost\n",
    "        supplies[i] -= allocation\n",
    "        demands[j] -= allocation\n",
    "\n",
    "        # Set the costs to inf where supply or demand is exhausted\n",
    "        if supplies[i] == 0:\n",
    "            cost_matrix[i, :] = np.inf\n",
    "        if demands[j] == 0:\n",
    "            cost_matrix[:, j] = np.inf\n",
    "\n",
    "    return result, total_cost"
   ]
  },
  {
   "cell_type": "code",
   "execution_count": 87,
   "id": "45767362",
   "metadata": {},
   "outputs": [],
   "source": [
    "import networkx as nx\n",
    "\n",
    "def draw_network(current_solution, supplies, demands):\n",
    "    G = nx.DiGraph()\n",
    "\n",
    "    num_suppliers, num_demand_points = current_solution.shape\n",
    "    pos = {}\n",
    "\n",
    "    # Add nodes with positions\n",
    "    for i in range(num_suppliers):\n",
    "        G.add_node(f'S{i+1}')\n",
    "        pos[f'S{i+1}'] = (1, num_suppliers - i)\n",
    "    \n",
    "    for j in range(num_demand_points):\n",
    "        G.add_node(f'D{j+1}')\n",
    "        pos[f'D{j+1}'] = (2, num_demand_points - j)\n",
    "\n",
    "    # Add edges with flows as labels\n",
    "    for i in range(num_suppliers):\n",
    "        for j in range(num_demand_points):\n",
    "            if current_solution[i, j] > 0:\n",
    "                G.add_edge(f'S{i+1}', f'D{j+1}', weight=current_solution[i, j])\n",
    "\n",
    "    labels = nx.get_edge_attributes(G, 'weight')\n",
    "    nx.draw(G, pos, with_labels=True, node_color='skyblue', node_size=2000, font_size=15, font_weight='bold')\n",
    "    nx.draw_networkx_edge_labels(G, pos, edge_labels=labels)\n",
    "    plt.title('Network Flow Visualization')\n",
    "    plt.show()"
   ]
  },
  {
   "cell_type": "markdown",
   "id": "f83deb8a",
   "metadata": {},
   "source": [
    "## Transportation Simplex Method"
   ]
  },
  {
   "cell_type": "code",
   "execution_count": 92,
   "id": "b5d93650",
   "metadata": {},
   "outputs": [],
   "source": [
    "def find_cycle(basis, entering):\n",
    "    # This function will create a cycle matrix and return the cycle path\n",
    "    num_rows, num_cols = basis.shape\n",
    "    marked = np.zeros_like(basis, dtype=bool)\n",
    "    row_excess = np.array([True] * num_rows)\n",
    "    col_excess = np.array([True] * num_cols)\n",
    "\n",
    "    def mark(row, col):\n",
    "        if marked[row, col]:\n",
    "            return True\n",
    "        marked[row, col] = True\n",
    "        if row_excess[row]:\n",
    "            for c in range(num_cols):\n",
    "                if c != col and basis[row, c]:\n",
    "                    if mark(row, c):\n",
    "                        return True\n",
    "        if col_excess[col]:\n",
    "            for r in range(num_rows):\n",
    "                if r != row and basis[r, col]:\n",
    "                    if mark(r, col):\n",
    "                        return True\n",
    "        marked[row, col] = False\n",
    "        return False\n",
    "\n",
    "    row, col = entering\n",
    "    mark(row, col)\n",
    "\n",
    "    path = []\n",
    "    for r in range(num_rows):\n",
    "        for c in range(num_cols):\n",
    "            if marked[r, c]:\n",
    "                path.append((r, c))\n",
    "    return path\n",
    "\n",
    "def pivot_operation(current_solution, costs, basis, supplies, demands, reduced_costs):\n",
    "    entering = np.unravel_index(np.argmin(reduced_costs), reduced_costs.shape)\n",
    "    path = find_cycle(basis, entering)\n",
    "    \n",
    "    # Determine the maximum amount that can be transferred along the cycle\n",
    "    amounts = []\n",
    "    sign = 1\n",
    "    for idx, pos in enumerate(path):\n",
    "        if idx % 2 == 1:\n",
    "            amounts.append(current_solution[pos] * sign)\n",
    "        sign *= -1\n",
    "    max_transfer = min(amounts, key=abs)\n",
    "    \n",
    "    # Adjust the solution along the cycle\n",
    "    for idx, pos in enumerate(path):\n",
    "        if idx % 2 == 1:\n",
    "            current_solution[pos] -= max_transfer\n",
    "        else:\n",
    "            current_solution[pos] += max_transfer\n",
    "\n",
    "    # Update basis\n",
    "    basis[path[-1]] = False\n",
    "    basis[entering] = True\n",
    "\n",
    "    return current_solution, basis\n",
    "\n",
    "\n",
    "def transportation_simplex(costs, initial_solution, supplies, demands):\n",
    "    num_suppliers, num_demand_points = initial_solution.shape\n",
    "    current_solution = np.array(initial_solution, dtype=float)\n",
    "    basis = current_solution > 0  # Boolean array to track basic variables\n",
    "    \n",
    "    # Check initial feasibility (supplies and demands should match)\n",
    "    assert sum(supplies) == sum(demands), \"Total supply must be equal to total demand!\"\n",
    "\n",
    "    # Main loop of the Transportation Simplex Method\n",
    "    while True:\n",
    "        # Step 1: Calculate shadow prices using the current BFS\n",
    "        u = np.zeros(num_suppliers)    # Shadow prices for suppliers\n",
    "        v = np.zeros(num_demand_points) # Shadow prices for demand points\n",
    "        v[-1] = 0  # Set the last shadow price of demand to 0 for normalization\n",
    "        \n",
    "        # Calculate u and v based on the current solution and costs\n",
    "        for i in range(num_suppliers):\n",
    "            for j in range(num_demand_points):\n",
    "                if current_solution[i, j] > 0:  # Basic variable\n",
    "                    if u[i] == 0:\n",
    "                        u[i] = costs[i, j] - v[j]\n",
    "        \n",
    "        for j in range(num_demand_points):\n",
    "            for i in range(num_suppliers):\n",
    "                if current_solution[i, j] > 0 and v[j] == 0:\n",
    "                    v[j] = costs[i, j] - u[i]\n",
    "\n",
    "        # Step 2: Calculate reduced costs for non-basic variables\n",
    "        reduced_costs = np.zeros_like(current_solution)\n",
    "        for i in range(num_suppliers):\n",
    "            for j in range(num_demand_points):\n",
    "                if current_solution[i, j] == 0:  # Non-basic variable\n",
    "                    reduced_costs[i, j] = costs[i, j] - (u[i] + v[j])\n",
    "        \n",
    "        # Check for optimality\n",
    "        if np.all(reduced_costs >= 0):\n",
    "            print(\"Optimal solution found!\")\n",
    "            break\n",
    "        \n",
    "        # Step 3: Pivot operation to adjust the current solution\n",
    "        current_solution = pivot_operation(current_solution, costs, basis, supplies, demands, reduced_costs)\n",
    "\n",
    "    return np.sum(current_solution * costs), current_solution"
   ]
  },
  {
   "cell_type": "markdown",
   "id": "448f4bd0",
   "metadata": {},
   "source": [
    "## Test Northwest Corner Method"
   ]
  },
  {
   "cell_type": "code",
   "execution_count": 49,
   "id": "38fca776",
   "metadata": {},
   "outputs": [
    {
     "name": "stdout",
     "output_type": "stream",
     "text": [
      "Northwest Corner Method Result:\n",
      " [[12.  8.  0.  0.  0.]\n",
      " [ 0.  6. 12.  2.  0.]\n",
      " [ 0.  0.  0. 16.  9.]]\n",
      "Total Cost: 948.0\n"
     ]
    }
   ],
   "source": [
    "cost_matrix = np.array([\n",
    "    [28, 7, 16, 2, 30],\n",
    "    [18, 8, 14, 4, 20],\n",
    "    [10, 12, 13, 5, 28]\n",
    "])\n",
    "\n",
    "\n",
    "supply = np.array([20, 20, 25])\n",
    "demand = np.array([12, 14, 12, 18, 9])\n",
    "\n",
    "nw_result, nw_cost = northwest_corner_method(cost_matrix, supply, demand)\n",
    "print(\"Northwest Corner Method Result:\\n\", nw_result)\n",
    "print(\"Total Cost:\", nw_cost)   "
   ]
  },
  {
   "cell_type": "markdown",
   "id": "5effc514",
   "metadata": {},
   "source": [
    "## Test Minimum Cost Method"
   ]
  },
  {
   "cell_type": "code",
   "execution_count": 51,
   "id": "1d6def6c",
   "metadata": {},
   "outputs": [
    {
     "name": "stdout",
     "output_type": "stream",
     "text": [
      "Minimum Cost Method Result:\n",
      " [[ 0.  2.  0. 18.  0.]\n",
      " [ 0. 12.  0.  0.  8.]\n",
      " [12.  0. 12.  0.  1.]]\n",
      "Total Cost: 610.0\n"
     ]
    }
   ],
   "source": [
    "cost_matrix = np.array([\n",
    "    [28, 7, 16, 2, 30],\n",
    "    [18, 8, 14, 4, 20],\n",
    "    [10, 12, 13, 5, 28]\n",
    "])\n",
    "\n",
    "supply = np.array([20, 20, 25])\n",
    "demand = np.array([12, 14, 12, 18, 9])\n",
    "mc_result, mc_cost = minimum_cost_method(cost_matrix, supply, demand)\n",
    "print(\"Minimum Cost Method Result:\\n\", mc_result)\n",
    "print(\"Total Cost:\", mc_cost)"
   ]
  },
  {
   "cell_type": "markdown",
   "id": "539a88fa",
   "metadata": {},
   "source": [
    "## Test Minimum Row Cost Method"
   ]
  },
  {
   "cell_type": "code",
   "execution_count": 52,
   "id": "6a786084",
   "metadata": {},
   "outputs": [
    {
     "name": "stdout",
     "output_type": "stream",
     "text": [
      "Minimum Row Cost Method Result:\n",
      " [[ 0.  2.  0. 18.  0.]\n",
      " [ 0. 12.  8.  0.  0.]\n",
      " [12.  0.  4.  0.  9.]]\n",
      "Total Cost: 682.0\n"
     ]
    }
   ],
   "source": [
    "cost_matrix = np.array([\n",
    "    [28, 7, 16, 2, 30],\n",
    "    [18, 8, 14, 4, 20],\n",
    "    [10, 12, 13, 5, 28]\n",
    "])\n",
    "\n",
    "supply = np.array([20, 20, 25])\n",
    "demand = np.array([12, 14, 12, 18, 9])\n",
    "mrc_result, mrc_cost = minimum_row_cost_method(cost_matrix, supply, demand)\n",
    "print(\"Minimum Row Cost Method Result:\\n\", mrc_result)\n",
    "print(\"Total Cost:\", mrc_cost)"
   ]
  },
  {
   "cell_type": "markdown",
   "id": "6765190f",
   "metadata": {},
   "source": [
    "## Test Vogel's Approximation Method"
   ]
  },
  {
   "cell_type": "code",
   "execution_count": 47,
   "id": "ff803ae5",
   "metadata": {},
   "outputs": [
    {
     "name": "stdout",
     "output_type": "stream",
     "text": [
      "Vogel's Approximation Method Result:\n",
      " [[ 0. 14.  1.  5.  0.]\n",
      " [ 0.  0. 11.  0.  9.]\n",
      " [12.  0.  0. 13.  0.]]\n",
      "Total Cost: 643.0\n"
     ]
    }
   ],
   "source": [
    "cost_matrix = np.array([\n",
    "    [28, 7, 16, 2, 30],\n",
    "    [18, 8, 14, 4, 20],\n",
    "    [10, 12, 13, 5, 28]\n",
    "], dtype=np.float64)\n",
    "\n",
    "\n",
    "supplies = np.array([20, 20, 25])\n",
    "demands = np.array([12, 14, 12, 18, 9])\n",
    "\n",
    "# Output the results\n",
    "vogel_result, vogel_cost = vogels_approximation_method(cost_matrix, supplies, demands)\n",
    "print(\"Vogel's Approximation Method Result:\\n\", vogel_result)\n",
    "print(\"Total Cost:\", vogel_cost)"
   ]
  },
  {
   "cell_type": "markdown",
   "id": "ce6fcd3d",
   "metadata": {},
   "source": [
    "## Test Transportation Simplex Method"
   ]
  },
  {
   "cell_type": "code",
   "execution_count": 93,
   "id": "2d090289",
   "metadata": {},
   "outputs": [
    {
     "name": "stdout",
     "output_type": "stream",
     "text": [
      "Optimal solution found!\n",
      "Transportation Simplex Method Result:\n",
      " [[ 0.  2.  0. 18.  0.]\n",
      " [ 0. 12.  0.  0.  8.]\n",
      " [12.  0. 12.  0.  1.]]\n",
      "Total Cost: 610.0\n"
     ]
    }
   ],
   "source": [
    "cost_matrix = np.array([\n",
    "    [28, 7, 16, 2, 30],\n",
    "    [18, 8, 14, 4, 20],\n",
    "    [10, 12, 13, 5, 28]\n",
    "], dtype=np.float64)\n",
    "\n",
    "\n",
    "supplies = np.array([20, 20, 25])\n",
    "demands = np.array([12, 14, 12, 18, 9])\n",
    "simplex_cost,simplex_result = transportation_simplex(cost_matrix,mc_result, supplies, demands)  \n",
    "print(\"Transportation Simplex Method Result:\\n\", simplex_result)\n",
    "print(\"Total Cost:\", simplex_cost)"
   ]
  }
 ],
 "metadata": {
  "kernelspec": {
   "display_name": "Python 3 (ipykernel)",
   "language": "python",
   "name": "python3"
  },
  "language_info": {
   "codemirror_mode": {
    "name": "ipython",
    "version": 3
   },
   "file_extension": ".py",
   "mimetype": "text/x-python",
   "name": "python",
   "nbconvert_exporter": "python",
   "pygments_lexer": "ipython3",
   "version": "3.9.13"
  }
 },
 "nbformat": 4,
 "nbformat_minor": 5
}
