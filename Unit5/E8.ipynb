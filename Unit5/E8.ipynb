{
 "cells": [
  {
   "cell_type": "markdown",
   "id": "606eb153",
   "metadata": {},
   "source": [
    "# E8. Branch and bound algorithm for integer programming"
   ]
  },
  {
   "cell_type": "markdown",
   "id": "7d31dcaf",
   "metadata": {},
   "source": [
    "## Code of the algorithm"
   ]
  },
  {
   "cell_type": "code",
   "execution_count": 11,
   "id": "c6a8692a",
   "metadata": {},
   "outputs": [],
   "source": [
    "import pandas as pd\n",
    "import heapq\n",
    "import matplotlib.pyplot as plt"
   ]
  },
  {
   "cell_type": "code",
   "execution_count": 12,
   "id": "b644be76",
   "metadata": {},
   "outputs": [],
   "source": [
    "def bound(level, profit, weight, W, n, profits, weights):\n",
    "    if weight >= W:\n",
    "        return 0\n",
    "    profit_bound = profit\n",
    "    j = level + 1\n",
    "    total_weight = weight\n",
    "\n",
    "    while (j < n and total_weight + weights[j] <= W):\n",
    "        total_weight += weights[j]\n",
    "        profit_bound += profits[j]\n",
    "        j += 1\n",
    "\n",
    "    if j < n:\n",
    "        profit_bound += (W - total_weight) * profits[j] / weights[j]\n",
    "\n",
    "    return profit_bound\n",
    "\n",
    "def branch_and_bound(n, W, profits, weights):\n",
    "    max_profit = 0\n",
    "    best_set = []\n",
    "    Q = []\n",
    "    heapq.heappush(Q, (-0, -1, 0, 0, []))\n",
    "\n",
    "    while Q:\n",
    "        current = heapq.heappop(Q)\n",
    "        current_bound = -current[0]\n",
    "        level = current[1]\n",
    "        current_profit = current[2]\n",
    "        current_weight = current[3]\n",
    "        include = current[4]\n",
    "\n",
    "        if level == n - 1:\n",
    "            continue\n",
    "\n",
    "        next_level = level + 1\n",
    "\n",
    "        next_weight = current_weight + weights[next_level]\n",
    "        next_profit = current_profit + profits[next_level]\n",
    "        next_include = include + [1]\n",
    "\n",
    "        if next_weight <= W and next_profit > max_profit:\n",
    "            max_profit = next_profit\n",
    "            best_set = next_include\n",
    "\n",
    "        next_bound = bound(next_level, next_profit, next_weight, W, n, profits, weights)\n",
    "        if next_bound > max_profit:\n",
    "            heapq.heappush(Q, (-next_bound, next_level, next_profit, next_weight, next_include))\n",
    "\n",
    "        next_include = include + [0]\n",
    "        next_bound = bound(next_level, current_profit, current_weight, W, n, profits, weights)\n",
    "        if next_bound > max_profit:\n",
    "            heapq.heappush(Q, (-next_bound, next_level, current_profit, current_weight, next_include))\n",
    "\n",
    "    return best_set, max_profit\n"
   ]
  },
  {
   "cell_type": "markdown",
   "id": "5822a582",
   "metadata": {},
   "source": [
    "## Code for the graphical part"
   ]
  },
  {
   "cell_type": "code",
   "execution_count": 13,
   "id": "e0476034",
   "metadata": {},
   "outputs": [],
   "source": [
    "def plot_results(df, best_set):\n",
    "    df['Selected'] = best_set\n",
    "    colors = ['blue' if x == 1 else 'gray' for x in df['Selected']]\n",
    "    \n",
    "    plt.figure(figsize=(10, 6))\n",
    "    plt.bar(df['Project'], df['Revenue'], color=colors)\n",
    "    plt.xlabel('Project')\n",
    "    plt.ylabel('Revenue')\n",
    "    plt.title('Project Revenues with Selected Projects Highlighted')\n",
    "    plt.show()"
   ]
  },
  {
   "cell_type": "markdown",
   "id": "870fcf26",
   "metadata": {},
   "source": [
    "## Execution of the algorithm "
   ]
  },
  {
   "cell_type": "code",
   "execution_count": 18,
   "id": "97c01536",
   "metadata": {},
   "outputs": [
    {
     "name": "stdout",
     "output_type": "stream",
     "text": [
      "Selected projects:  [2, 4, 5, 6]\n",
      "Maximum revenue:  84\n",
      "Total number of days used:  195\n"
     ]
    },
    {
     "data": {
      "image/png": "[encoded data removed]",
      "text/plain": [
       "<Figure size 1000x600 with 1 Axes>"
      ]
     },
     "metadata": {},
     "output_type": "display_data"
    }
   ],
   "source": [
    "def main():\n",
    "    df = pd.read_csv(r\"C:\\Users\\Utilisateur\\Desktop\\ESILV\\A3\\Optimization\\BBAlgoData.csv\")\n",
    "    profits = df['Revenue'].tolist()\n",
    "    weights = df['Days'].tolist()\n",
    "    # Here we can change the maximum number of researcher days available\n",
    "    W = 200  \n",
    "    n = len(profits)\n",
    "\n",
    "    best_set, max_profit = branch_and_bound(n, W, profits, weights)\n",
    "    \n",
    "    selected_projects = [i+1 for i, x in enumerate(best_set) if x == 1]\n",
    "    days_used = sum(weights[i] for i, x in enumerate(best_set) if x == 1)\n",
    "    \n",
    "    print(\"Selected projects: \", selected_projects)\n",
    "    print(\"Maximum revenue: \", max_profit)\n",
    "    print(\"Total number of days used: \", days_used)\n",
    "    \n",
    "    plot_results(df, best_set)\n",
    "\n",
    "\n",
    "if __name__ == \"__main__\":\n",
    "    main()"
   ]
  }
 ],
 "metadata": {
  "kernelspec": {
   "display_name": "Python 3 (ipykernel)",
   "language": "python",
   "name": "python3"
  },
  "language_info": {
   "codemirror_mode": {
    "name": "ipython",
    "version": 3
   },
   "file_extension": ".py",
   "mimetype": "text/x-python",
   "name": "python",
   "nbconvert_exporter": "python",
   "pygments_lexer": "ipython3",
   "version": "3.9.13"
  }
 },
 "nbformat": 4,
 "nbformat_minor": 5
}
